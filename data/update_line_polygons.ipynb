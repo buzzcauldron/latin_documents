<PcGts xmlns="http://schema.primaresearch.org/PAGE/gts/pagecontent/2013-07-15" xmlns:xsi="http://www.w3.org/2001/XMLSchema-instance" xsi:schemaLocation="http://schema.primaresearch.org/PAGE/gts/pagecontent/2013-07-15 http://schema.primaresearch.org/PAGE/gts/pagecontent/2013-07-15/pagecontent.xsd">
    <Metadata>
        <Creator>Transkribus</Creator>
        <Created>2023-11-06T04:43:18.581+01:00</Created>
        <LastChange>2023-11-06T18:02:03.289+01:00</LastChange>
        <TranskribusMetadata docId="1640070" pageId="61175332" pageNr="22" tsid="138922868" status="GT" userId="195295" imgUrl="https://files.transkribus.eu/Get?id=OUEFCQJWGDUTPBHJZOIMJRZI&amp;fileType=view" xmlUrl="https://files.transkribus.eu/Get?id=GVGOCFXDAHQYQMYMVIFAGZXH" imageId="49447234" />
    </Metadata>
    <Page imageFilename="0022_JUST1-635m12d.jpeg" imageWidth="1083" imageHeight="289">
        <ReadingOrder>
            <OrderedGroup id="ro_1700697997360" caption="Regions reading order">
                <RegionRefIndexed index="0" regionRef="r" />
            </OrderedGroup>
        </ReadingOrder>
        <Relations />
        <TextRegion id="r" custom="readingOrder {index:0;}">
            <Coords points="1077,267 7,267 7,0 1077,0" />
            <TextLine id="l" custom="readingOrder {index:0;}">
                <Coords points="-2,18 188,29 388,38 563,49 751,61 889,68 989,73 1060,77 1060,102 989,98 889,93 751,86 563,74 388,63 188,54 -2,43 " />
                <Baseline points="-2,23 188,34 388,43 563,54 751,66 889,73 989,78 1060,82" />
                <TextEquiv>
                    <Unicode>a Radus Parleben de Multon felonice interfectus Iohem de Carlton in villa de Multon  Et statim </Unicode>
                </TextEquiv>
            </TextLine>
            <TextLine id="l_26" custom="readingOrder {index:1;}">
                <Coords points="19,54 136,61 336,73 495,83 650,93 793,99 870,101 962,104 1067,110 1067,135 962,129 870,126 793,124 650,118 495,108 336,98 136,86 19,79 " />
                <Baseline points="19,59 136,66 336,78 495,88 650,98 793,104 870,106 962,109 1067,115" />
                <TextEquiv>
                    <Unicode>post ftm capts fuit et liberats Iohi de Wyleby tunc vic istius com etc. Ideo . r . hered dti Iohis quo </Unicode>
                </TextEquiv>
            </TextLine>
            <TextLine id="l_46" custom="readingOrder {index:2;}">
                <Coords points="18,86 192,98 354,107 740,128 911,136 1074,146 1074,171 911,161 740,153 354,132 192,123 18,111 " />
                <Baseline points="18,91 192,103 354,112 740,133 911,141 1074,151" />
                <TextEquiv>
                    <Unicode>deuenit . cat eius . vij. d. vn vic. r. Et nich de inventor q huit iura eccliastica --- Postea iur </Unicode>
                </TextEquiv>
            </TextLine>
            <TextLine id="l_60" custom="readingOrder {index:3;}">
                <Coords points="17,120 396,143 686,161 869,171 1061,180 1061,205 869,196 686,186 396,168 17,145 " />
                <Baseline points="17,125 396,148 686,166 869,176 1061,185" />
                <TextEquiv>
                    <Unicode>hundri de Neubotlesgaue testantr quod predictus lohes de Carleton .a custodia predicti Iohis de Wyleby </Unicode>
                </TextEquiv>
            </TextLine>
            <TextLine id="l_72" custom="readingOrder {index:4;}">
                <Coords points="13,152 268,167 409,176 601,189 776,198 923,205 1067,214 1067,239 923,230 776,223 601,214 409,201 268,192 13,177 " />
                <Baseline points="13,157 268,172 409,181 601,194 776,203 923,210 1067,219" />
                <TextEquiv>
                    <Unicode>felonice euasit , de cuius euasione Robertus fil et heres predicti Iohis de Wyleby oneratr in predicto hundro </Unicode>
                </TextEquiv>
            </TextLine>
            <TextLine id="l_88" custom="readingOrder {index:5;}">
                <Coords points="17,184 366,207 564,221 764,231 911,237 1045,241 1064,243 1064,268 1045,266 911,262 764,256 564,246 366,232 17,209 " />
                <Baseline points="17,189 366,212 564,226 764,236 911,242 1045,246 1064,248" />
                <TextEquiv>
                    <Unicode>de Neubotlegaue. Ideo nich vlterius versus hered predicti Iohis hic etc. --- Et idem Iohes de Carleton </Unicode>
                </TextEquiv>
            </TextLine>
            <TextLine id="l_104" custom="readingOrder {index:6;}">
                <Coords points="19,218 165,227 275,232 410,243 542,251 646,257 646,282 542,276 410,268 275,257 165,252 19,243 " />
                <Baseline points="19,223 165,232 275,237 410,248 542,256 646,262" />
                <TextEquiv>
                    <Unicode>abiur regnu coram coron prout patet in hundro predicto etc.</Unicode>
                </TextEquiv>
            </TextLine>
            <TextEquiv>
                <Unicode />
            </TextEquiv>
        </TextRegion>
    </Page>
</PcGts>